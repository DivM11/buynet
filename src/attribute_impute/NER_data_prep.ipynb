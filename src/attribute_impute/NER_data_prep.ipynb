{
 "cells": [
  {
   "cell_type": "code",
   "execution_count": 1,
   "metadata": {},
   "outputs": [
    {
     "name": "stdout",
     "output_type": "stream",
     "text": [
      "C:\\Users\\Lenovo\\PyDev\\Retail_Chatbot\\buynet\\data\n"
     ]
    }
   ],
   "source": [
    "cd C:/Users/Lenovo/PyDev/Retail_Chatbot/buynet/data"
   ]
  },
  {
   "cell_type": "code",
   "execution_count": 2,
   "metadata": {},
   "outputs": [],
   "source": [
    "import pandas as pd\n",
    "import re\n",
    "import pickle\n",
    "import html2text\n",
    "\n",
    "h = html2text.HTML2Text()\n",
    "df = pd.read_json('metadata/Meta_v3.json')"
   ]
  },
  {
   "cell_type": "code",
   "execution_count": 4,
   "metadata": {},
   "outputs": [
    {
     "name": "stdout",
     "output_type": "stream",
     "text": [
      "Filled up columns\n",
      "also_buy 3199\n",
      "also_view 5204\n",
      "asin 11315\n",
      "brand 11315\n",
      "category 11315\n",
      "date 11315\n",
      "description 7666\n",
      "feature 8477\n",
      "image 9944\n",
      "main_cat 11315\n",
      "price 11315\n",
      "rank 11143\n",
      "title 11315\n",
      "specifications 11315\n",
      "Products with neither desciption nor features: 2460\n",
      "Products with no specifications: 4413\n"
     ]
    }
   ],
   "source": [
    "print(\"Filled up columns\")\n",
    "for i in df.columns:\n",
    "    print(i, len(df)-list(df[i]).count([]))\n",
    "\n",
    "content_NA = 0\n",
    "for i in range(len(df)):\n",
    "    if df.loc[i,'description']==[] and df.loc[i, 'feature']==[]:\n",
    "        content_NA += 1\n",
    "print(\"Products with neither desciption nor features\", end=\": \")\n",
    "print(content_NA)\n",
    "\n",
    "no_specs = 0\n",
    "\n",
    "for i in range(len(df)):\n",
    "    if df.loc[i,'specifications']=={}:\n",
    "        no_specs += 1\n",
    "print(\"Products with no specifications\", end=\": \")\n",
    "print(no_specs)"
   ]
  },
  {
   "cell_type": "code",
   "execution_count": 7,
   "metadata": {},
   "outputs": [],
   "source": [
    "def gen_content(df, i):\n",
    "    content = h.handle(df.loc[i, 'title'])\n",
    "    for j in range(len(df.loc[i, 'description'])):\n",
    "        content = content + ' ' + h.handle(df.loc[i, 'description'][j])\n",
    "    for j in range(len(df.loc[i, 'feature'])):\n",
    "        content = content + ' ' + h.handle(df.loc[i, 'feature'][j])\n",
    "    return content\n",
    "\n",
    "def gen_entities(df, i):\n",
    "    ents = []\n",
    "    for k,v in enumerate(df.loc[i, 'specifications']):\n",
    "        if v not in ents:\n",
    "            ents.append(v)\n",
    "    return ents\n",
    "\n",
    "def gen_offsets(df,i):\n",
    "    ents = gen_entities(df,i)\n",
    "    values = []\n",
    "    content = gen_content(df, i)\n",
    "    final = []\n",
    "    res = []\n",
    "    \n",
    "    for k,v in enumerate(df.loc[i, 'specifications']):\n",
    "        spec_dict = df.loc[i, 'specifications']\n",
    "        if len(spec_dict[v])>1:\n",
    "            values.append(spec_dict[v])\n",
    "    \n",
    "    for j in values:\n",
    "        try: \n",
    "            res.append((re.search(j.lower(), content.lower()).start(), re.search(j.lower(), content.lower()).end(), list(spec_dict.keys())[list(spec_dict.values()).index(j)]))\n",
    "        except: \n",
    "            pass\n",
    "    \n",
    "    screen_size_match = [ r\"\\d\\d?\\.\\d\\\"\", r\"\\d\\d?\\\"\"]\n",
    "    ram_match = [r\"\\d\\.\\d\\s?gb\\s?ram\", r\"\\d\\s?gb\\s?ram\", r\"\\d\\s?gb\\s?ddr3\", r\"\\d\\s?gb,\\s?ddr3\", r\"\\d\\s?gb,\\s?lpddr3\", r\"\\d\\d?\\s?gb\\s?ddr4\", r\"ram:\\s\\d(k|g)b\"]\n",
    "    hdd_match = [r\"\\d*\\s?(g|t)b\\s?hdd\", r\"\\d\\s?tb \"]\n",
    "    ssd_match = [r\"\\d*\\s?(g|t)b\\s?ssd\"]\n",
    "    ghz_match = [r\"\\d\\.\\d*\\s?ghz\", r\"\\d\\s?ghz\", r\"\\d*\\s?mhz\"]\n",
    "    screen_res_match = [r\"\\d\\d\\d\\d?\\s?x\\s?\\d\\d\\d\\d?\",\"\\d\\d\\d\\d?\\s?\\*\\s?\\d\\d\\d\\d?\"]\n",
    "    wt_match = [\"\\d*\\.?\\d*\\s?lbs\", \"\\d*\\.?\\d*\\s?pounds\", \"\\d*\\.?\\d*\\s?ounces\"]\n",
    "    power = [\"\\d*\\.?\\d*\\s?watt\"]\n",
    "    transfer_speed = [\"(\\s|\\/)\\d\\d?\\s?(g|m)b(\\/|p)s\",\"(\\s|\\/)\\d\\d?\\.\\d\\d?\\s?(g|m)b(\\/|p)s\", \"(\\s|\\/)\\d\\d\\d\\d?\\s?(g|m)b(\\/|p)s\"]\n",
    "    battery = [\"\\d*\\s?mah\"]\n",
    "    waterproof = [\"ipx\\d\"]\n",
    "    sensitivity = [\"\\s\\d*\\s?db\"]\n",
    "    camera_resolution = [\"\\s\\d\\d?(\\.\\d)?\\s?MP\"]\n",
    "    \n",
    "    reg_list = [screen_size_match, ram_match, hdd_match, ssd_match, ghz_match, screen_res_match, wt_match, power, transfer_speed, battery, waterproof, sensitivity, camera_resolution]\n",
    "    reg_names = [\"n_size\", \"ram\", \"hdd\", \"ssd\", \"speed\", \"screen_resolution\", \"weight\", \"power\", \"transfer_speed\", \"battery\", \"waterproof_rating\", \"sensitivity\", \"camera\"]\n",
    "    \n",
    "    for i in range(len(reg_list)):\n",
    "        for j in reg_list[i]:\n",
    "            if (re.search(j.lower(), content.lower()) is None):\n",
    "                continue\n",
    "            else:\n",
    "                res.append((re.search(j.lower(), content.lower()).start(), re.search(j.lower(), content.lower()).end(), reg_names[i]))\n",
    "     \n",
    "    def get_ent_keys(lst):\n",
    "        ents = []\n",
    "        for i in lst:\n",
    "            ents.append(i[2])\n",
    "        return ents\n",
    "    \n",
    "    flash_memory = \"\\d\\d*(\\.\\d)?\\s?(g|t)b\"\n",
    "    ents = get_ent_keys(res)\n",
    "    if (('RAM' not in ents) and ('hdd' not in ents) and ('ssd' not in ents) and ('Flash Memory Size' not in ents)):\n",
    "\n",
    "        if (re.search(flash_memory, content.lower()) is None):\n",
    "            pass\n",
    "        else:\n",
    "            res.append((re.search(flash_memory.lower(), content.lower()).start(), re.search(flash_memory.lower(), content.lower()).end(), 'memory'))\n",
    "    \n",
    "    return res"
   ]
  },
  {
   "cell_type": "code",
   "execution_count": 23,
   "metadata": {},
   "outputs": [],
   "source": [
    "battery_match = \"\\d\\d*\\s?ma\"\n",
    "for i in range(len(df)):\n",
    "    match = re.search(battery_match, gen_content(df, i).lower())\n",
    "    if not (match is None):\n",
    "        df.loc[i, 'specifications']['battery'] = match.group(0)\n",
    "        continue\n",
    "        \n",
    "db_match = \"\\d\\d*\\s?db\"\n",
    "for i in range(len(df)):\n",
    "    match = re.search(db_match, gen_content(df, i).lower())\n",
    "    if not (match is None):\n",
    "        df.loc[i, 'specifications']['sensitivity'] = match.group(0)\n",
    "        continue"
   ]
  },
  {
   "cell_type": "code",
   "execution_count": 12,
   "metadata": {},
   "outputs": [],
   "source": [
    "flash_memory = \"\\d\\d*(\\.\\d)?\\s?(g|t)b\"\n",
    "\n",
    "for i in range(len(df)):\n",
    "    match = re.search(flash_memory, gen_content(df, i).lower())\n",
    "    if not (match is None):\n",
    "        ents = gen_entities(df, i)\n",
    "        if (('RAM' not in ents) and ('hdd' not in ents) and ('ssd' not in ents) and ('Flash Memory Size' not in ents)):\n",
    "            df.loc[i, 'specifications']['memory'] = match.group(0)\n",
    "            continue"
   ]
  },
  {
   "cell_type": "code",
   "execution_count": 27,
   "metadata": {},
   "outputs": [],
   "source": [
    "# train_data = []\n",
    "# for i in range(len(df)):\n",
    "#     train_data.append((gen_content(df, i), {\"entities\": gen_offsets(df, i)}))"
   ]
  },
  {
   "cell_type": "code",
   "execution_count": 549,
   "metadata": {},
   "outputs": [
    {
     "name": "stdout",
     "output_type": "stream",
     "text": [
      "1566\n",
      "5850\n"
     ]
    }
   ],
   "source": [
    "print('1566')\n",
    "TD = []\n",
    "for i in range(len(train_data)):\n",
    "    if (len(train_data[i][1]['entities'])>=1):\n",
    "        TD.append(train_data[i])\n",
    "print(len(TD))"
   ]
  },
  {
   "cell_type": "code",
   "execution_count": 517,
   "metadata": {},
   "outputs": [],
   "source": [
    "with open(\"ner_train.txt\", \"rb\") as fp:   # Unpickling\n",
    "    TRAIN_DATA = pickle.load(fp)"
   ]
  },
  {
   "cell_type": "code",
   "execution_count": 550,
   "metadata": {},
   "outputs": [],
   "source": [
    "jar = TD\n",
    "for i in range(len(jar)):\n",
    "    clx = []\n",
    "    for j in range(len(jar[i][1]['entities'])):\n",
    "        dup = jar[i][1]['entities'][j]\n",
    "        switch = 0\n",
    "        for k in range(len(clx)):\n",
    "            if clx[k][2]==jar[i][1]['entities'][j][2]:\n",
    "                switch = 1\n",
    "        if switch == 1:\n",
    "            continue\n",
    "        else:\n",
    "            clx.append(jar[i][1]['entities'][j])\n",
    "    jar[i][1]['entities'] = clx"
   ]
  },
  {
   "cell_type": "code",
   "execution_count": null,
   "metadata": {},
   "outputs": [],
   "source": [
    "with open(\"metadata/ner_train.txt\", \"wb\") as fp:   #Pickling\n",
    "    pickle.dump(TD, fp)\n",
    "df.to_json('metadata/Meta_v3.json')"
   ]
  },
  {
   "cell_type": "markdown",
   "metadata": {},
   "source": [
    "### Creating an aggregate dictionary"
   ]
  },
  {
   "cell_type": "code",
   "execution_count": 551,
   "metadata": {},
   "outputs": [],
   "source": [
    "def gen_BD(df, i):\n",
    "    MD1 = df.loc[i, 'spec_dict']\n",
    "    spec_dict2 = df.loc[i, 'spec_dict2']\n",
    "    content = gen_content(df, i)\n",
    "    \n",
    "    for i,k in enumerate(spec_dict2):\n",
    "        MD1[k] = spec_dict2[k]\n",
    "    ents = []\n",
    "    \n",
    "    for i in TD:\n",
    "        if i[0] == content:\n",
    "            ents = i[1]['entities']\n",
    "            break\n",
    "            \n",
    "    for i in ents:\n",
    "        MD1[i[2]]=content[i[0]:i[1]]\n",
    "        \n",
    "    return MD1"
   ]
  },
  {
   "cell_type": "code",
   "execution_count": 552,
   "metadata": {},
   "outputs": [],
   "source": [
    "lst_dict = []\n",
    "df = df.reset_index()\n",
    "df = df.drop(columns=\"index\")\n",
    "for i in range(len(df)):\n",
    "    lst_dict.append(gen_BD(df,i))\n",
    "    \n",
    "df['specifications'] = lst_dict"
   ]
  },
  {
   "cell_type": "code",
   "execution_count": 81,
   "metadata": {},
   "outputs": [
    {
     "name": "stdout",
     "output_type": "stream",
     "text": [
      "Products with no specifications: 4413\n"
     ]
    }
   ],
   "source": [
    "no_specs = 0\n",
    "for i in range(len(df)):\n",
    "    if df.loc[i,'specifications']=={}:\n",
    "        no_specs += 1\n",
    "print(\"Products with no specifications\", end=\": \")\n",
    "print(no_specs)"
   ]
  },
  {
   "cell_type": "code",
   "execution_count": 556,
   "metadata": {},
   "outputs": [
    {
     "data": {
      "text/plain": [
       "5465"
      ]
     },
     "execution_count": 556,
     "metadata": {},
     "output_type": "execute_result"
    }
   ],
   "source": [
    "excl = []\n",
    "for i in range(len(train_data)):\n",
    "    if (len(train_data[i][1]['entities'])==0):\n",
    "        excl.append(train_data[i])\n",
    "len(excl)"
   ]
  },
  {
   "cell_type": "code",
   "execution_count": 561,
   "metadata": {},
   "outputs": [],
   "source": [
    "df = df.drop(columns=['spec_dict','spec_dict2'])"
   ]
  },
  {
   "cell_type": "code",
   "execution_count": 31,
   "metadata": {},
   "outputs": [
    {
     "name": "stdout",
     "output_type": "stream",
     "text": [
      "0\n",
      "['waterproof_rating', 'Item Dimensions', 'sensitivity', 'Size', 'Material Type', 'Manufacturer Part Number', 'battery', 'screen_resolution', 'weight', 'transfer_speed', 'memory', 'Processor', 'RAM', 'Memory Speed', 'Hard Drive', 'Graphics Coprocessor', 'Chipset Brand', 'Card Description', 'Number of USB 2.0 Ports', 'Number of USB 3.0 Ports', 'Series', 'Hardware Platform', 'Operating System', 'Processor Brand', 'Processor Count', 'Flash Memory Size', 'Hard Drive Interface', 'Hard Drive Rotational Speed', 'Optical Drive Type', 'speed', 'Graphics Card Ram Size', 'Wireless Type', 'Computer Memory Type', 'Display Size', 'Item Package Quantity', 'Batteries', 'ssd', 'Batteries Included?', 'Batteries Required?', 'Wattage', 'camera_resolution', 'Packaging', 'California residents', 'Voltage', 'Specification Met', 'Average Battery Life (in hours)', 'Audio-out Ports (#)', 'Power Source', 'Material', 'Usage', 'Certification', 'hdd', 'Special Features', 'Finish', 'Included Components', 'Style', 'Warranty Description', 'c harness connectors', 'Display Type', 'Number Of Pieces', 'Wireless Remote', 'Battery Cell Type', 'Battery Capacity', 'Discontinued by manufacturer', 'Item Display Height', 'Memory Card Slot', 'Voice Command', 'Number of Component Outputs', 'Strength', 'Warranty', 'Width (inches)', 'Battery Life', 'A hours)', 'Power Source Type', 'Number of Handles', 'Chassis Size', 'Flat Number of Handles', 'Measurement System', 'Description Pile', 'Shape', 'M 6FMS9', 'Line Size', 'Assembled Height', 'Assembled Length', 'Assembled Width', 'Fixture Features', 'Switch Style', 'LED', 'Pattern', 'Sheet Size', 'Type of Bulb', 'Media Playback Supported', 'Desktop', 'Speaker Type', 'Extension Cable', 'Expansion', 'Connectivity Technology', 'Total Recycled Content Percentage', 'Optional Special Features', 'Wireless Comm Standard', 'Maximum Weight Capacity', 'Handle Material']\n"
     ]
    }
   ],
   "source": [
    "UKS = []\n",
    "rem = 0\n",
    "print(len(UKS))\n",
    "\n",
    "for i in range(len(df)):\n",
    "    for v, k in enumerate(df.loc[i, 'specifications']):\n",
    "        if k not in UKS:\n",
    "            UKS.append(k)\n",
    "            \n",
    "print((UKS))"
   ]
  },
  {
   "cell_type": "code",
   "execution_count": 26,
   "metadata": {},
   "outputs": [],
   "source": [
    "for i in range(len(df)):\n",
    "    keys = []\n",
    "    for ind, k in enumerate(df.loc[i, 'specifications']):\n",
    "        keys.append(k)\n",
    "        if (('Size' in keys) and ('n_size' in keys)):\n",
    "            del df.loc[i, 'specifications']['n_size']\n",
    "            break\n",
    "    for ind, k in enumerate(df.loc[i, 'specifications']):\n",
    "        keys.append(k)\n",
    "        if (('hdd' in keys) and ('Hard Drive' in keys)):\n",
    "            del df.loc[i, 'specifications']['hdd']\n",
    "            break\n",
    "    for ind, k in enumerate(df.loc[i, 'specifications']):\n",
    "        keys.append(k)\n",
    "        if (('ram' in keys) and ('RAM' in keys)):\n",
    "            del df.loc[i, 'specifications']['ram']\n",
    "            break\n",
    "    for ind, k in enumerate(df.loc[i, 'specifications']):\n",
    "        keys.append(k)\n",
    "        if (('camera' in keys) and ('camera_resolution' in keys)):\n",
    "            del df.loc[i, 'specifications']['camera']\n",
    "            break\n",
    "    for ind, k in enumerate(df.loc[i, 'specifications']):\n",
    "        keys.append(k)\n",
    "        if (('power' in keys) and ('Wattage' in keys)):\n",
    "            del df.loc[i, 'specifications']['Wattage']\n",
    "            break\n",
    "    for ind, k in enumerate(df.loc[i, 'specifications']):\n",
    "        keys.append(k)\n",
    "        if (('power' in keys) and ('Output Wattage' in keys)):\n",
    "            del df.loc[i, 'specifications']['Output Wattage']\n",
    "            break"
   ]
  },
  {
   "cell_type": "code",
   "execution_count": 29,
   "metadata": {},
   "outputs": [],
   "source": [
    "for i in range(len(df)):\n",
    "    for ind, k in enumerate(df.loc[i, 'specifications']):\n",
    "        if (k == 'n_size'):\n",
    "            df.loc[i, 'specifications']['Size'] = df.loc[i, 'specifications'][k]\n",
    "            del df.loc[i, 'specifications'][k]\n",
    "            break\n",
    "    for ind, k in enumerate(df.loc[i, 'specifications']):\n",
    "        if (k == 'camera'):\n",
    "            df.loc[i, 'specifications']['camera_resolution'] = df.loc[i, 'specifications'][k]\n",
    "            del df.loc[i, 'specifications'][k]\n",
    "            break\n",
    "    for ind, k in enumerate(df.loc[i, 'specifications']):\n",
    "        if (k == 'ram'):\n",
    "            df.loc[i, 'specifications']['RAM'] = df.loc[i, 'specifications'][k]\n",
    "            del df.loc[i, 'specifications'][k]\n",
    "            break\n",
    "    for ind, k in enumerate(df.loc[i, 'specifications']):\n",
    "        if (k == 'power'):\n",
    "            df.loc[i, 'specifications']['Wattage'] = df.loc[i, 'specifications'][k]\n",
    "            del df.loc[i, 'specifications'][k]\n",
    "            break\n",
    "    for ind, k in enumerate(df.loc[i, 'specifications']):\n",
    "        if (k == 'Output Wattage'):\n",
    "            df.loc[i, 'specifications']['Wattage'] = df.loc[i, 'specifications'][k]\n",
    "            del df.loc[i, 'specifications'][k]\n",
    "            break\n",
    "    for ind, k in enumerate(df.loc[i, 'specifications']):\n",
    "        if (k == 'Screen Size'):\n",
    "            df.loc[i, 'specifications']['Display Size'] = df.loc[i, 'specifications'][k]\n",
    "            del df.loc[i, 'specifications'][k]\n",
    "            break"
   ]
  },
  {
   "cell_type": "code",
   "execution_count": 73,
   "metadata": {},
   "outputs": [
    {
     "data": {
      "text/plain": [
       "11315"
      ]
     },
     "execution_count": 73,
     "metadata": {},
     "output_type": "execute_result"
    }
   ],
   "source": [
    "def extract_unit(query, sen):\n",
    "    start = re.search(query.lower(), sen.lower()).start()\n",
    "    value = sen[0:start]\n",
    "    unit = re.search(query.lower(), sen.lower()).group(0)\n",
    "    return value, unit\n",
    "\n",
    "lst = []\n",
    "for i in range(len(df)):\n",
    "    lst.append({})\n",
    "    \n",
    "df['spec_tup'] = lst\n",
    "\n",
    "match = [r\"ghz\", r\"mhz\", r\"gb\", r\"kb\", r\"tb\", r\"MP\", r\"db\", r\"lbs\", r\"pounds\", r\"ounces\"]\n",
    "unit_list = [\"camera_resolution\", \"hdd\", \"Hard Drive\", \"RAM\", \"ram\", \"memory\", \"Memory Speed\"]\n",
    "\n",
    "for j in match:\n",
    "    for i in range(len(df)):\n",
    "            for ind, k in enumerate(df.loc[i, 'specifications']):\n",
    "                val = df.loc[i, 'specifications'][k]\n",
    "                if ((k in unit_list) and (j in val.lower())):\n",
    "                    value, unit = extract_unit(j, val)\n",
    "                    df.loc[i, 'spec_tup'][k] = (value, unit)"
   ]
  },
  {
   "cell_type": "code",
   "execution_count": 79,
   "metadata": {},
   "outputs": [],
   "source": [
    "df = df.drop(columns='spec_tup')"
   ]
  },
  {
   "cell_type": "code",
   "execution_count": 32,
   "metadata": {},
   "outputs": [],
   "source": [
    "df.to_json('metadata/Meta_v4.json')"
   ]
  }
 ],
 "metadata": {
  "kernelspec": {
   "display_name": "Python 3",
   "language": "python",
   "name": "python3"
  },
  "language_info": {
   "codemirror_mode": {
    "name": "ipython",
    "version": 3
   },
   "file_extension": ".py",
   "mimetype": "text/x-python",
   "name": "python",
   "nbconvert_exporter": "python",
   "pygments_lexer": "ipython3",
   "version": "3.7.3"
  }
 },
 "nbformat": 4,
 "nbformat_minor": 2
}
