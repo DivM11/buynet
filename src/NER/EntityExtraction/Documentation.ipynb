{
  "nbformat": 4,
  "nbformat_minor": 0,
  "metadata": {
    "colab": {
      "name": "Documentation",
      "provenance": []
    },
    "kernelspec": {
      "name": "python3",
      "display_name": "Python 3"
    }
  },
  "cells": [
    {
      "cell_type": "code",
      "metadata": {
        "id": "qDpfWG2H275f",
        "outputId": "895ce82e-3cd2-4b50-8237-659260b67b5f",
        "colab": {
          "base_uri": "https://localhost:8080/"
        }
      },
      "source": [
        "from google.colab import drive\n",
        "drive.mount('/content/drive')"
      ],
      "execution_count": null,
      "outputs": [
        {
          "output_type": "stream",
          "text": [
            "Mounted at /content/drive\n"
          ],
          "name": "stdout"
        }
      ]
    },
    {
      "cell_type": "code",
      "metadata": {
        "id": "Y5oX3f4d3BsQ"
      },
      "source": [
        "import json\n",
        "import matplotlib.pyplot as plt "
      ],
      "execution_count": null,
      "outputs": []
    },
    {
      "cell_type": "markdown",
      "metadata": {
        "id": "GqRQbOQ657MA"
      },
      "source": [
        "# Data Loading "
      ]
    },
    {
      "cell_type": "markdown",
      "metadata": {
        "id": "dDv7uVxw5_oO"
      },
      "source": [
        "## Entity-Sentiment data loading"
      ]
    },
    {
      "cell_type": "code",
      "metadata": {
        "id": "Bm_udZN53C9o"
      },
      "source": [
        "f = open('/content/drive/My Drive/summ_file.json')\n",
        "sentiment_data = json.load(f)"
      ],
      "execution_count": null,
      "outputs": []
    },
    {
      "cell_type": "markdown",
      "metadata": {
        "id": "e8jgkQvN6F_H"
      },
      "source": [
        "## Top review(based on sentimental score) for each entity"
      ]
    },
    {
      "cell_type": "code",
      "metadata": {
        "id": "KvUq2-Im3b2C"
      },
      "source": [
        "f = open('/content/drive/My Drive/rev_file.json')\n",
        "top_review_data = json.load(f)"
      ],
      "execution_count": null,
      "outputs": []
    },
    {
      "cell_type": "code",
      "metadata": {
        "id": "GnUbC8Bh3isP",
        "outputId": "035d1f68-f9ab-4b64-aac3-2475a89f4cc9",
        "colab": {
          "base_uri": "https://localhost:8080/"
        }
      },
      "source": [
        "print(\"total number of unique products {}\".format(len(sentiment_data)))"
      ],
      "execution_count": null,
      "outputs": [
        {
          "output_type": "stream",
          "text": [
            "total number of unique products 40\n"
          ],
          "name": "stdout"
        }
      ]
    },
    {
      "cell_type": "markdown",
      "metadata": {
        "id": "4OPBlszK6OV5"
      },
      "source": [
        "# Results"
      ]
    },
    {
      "cell_type": "markdown",
      "metadata": {
        "id": "Y_RHaK3X6Ski"
      },
      "source": [
        "## Product 1"
      ]
    },
    {
      "cell_type": "code",
      "metadata": {
        "id": "sQx1nXWX3ytr",
        "outputId": "aa0529ea-67be-480f-fa1f-f239e0d19682",
        "colab": {
          "base_uri": "https://localhost:8080/"
        }
      },
      "source": [
        "sentiment_data[0]"
      ],
      "execution_count": null,
      "outputs": [
        {
          "output_type": "execute_result",
          "data": {
            "text/plain": [
              "{'b&n': 0.0,\n",
              " 'nook': 0.0,\n",
              " 'price': 0.0,\n",
              " 'product_id': '140053271X',\n",
              " 'screen': -0.3412,\n",
              " 'touch': 0.0}"
            ]
          },
          "metadata": {
            "tags": []
          },
          "execution_count": 72
        }
      ]
    },
    {
      "cell_type": "code",
      "metadata": {
        "id": "FX9TaNn6-Bq9",
        "outputId": "ca411935-757d-4fe4-c2ed-ad8b0b1e354b",
        "colab": {
          "base_uri": "https://localhost:8080/",
          "height": 350
        }
      },
      "source": [
        "   \n",
        "# creating the dataset\n",
        "sentiment_data[0].pop('product_id', None)\n",
        "\n",
        "data = sentiment_data[0]\n",
        "courses = list(data.keys()) \n",
        "values = list(data.values()) \n",
        "fig = plt.figure(figsize = (10, 5)) \n",
        "# creating the bar plot \n",
        "plt.bar(courses, values, color ='blue',  \n",
        "        width = 0.4) \n",
        "plt.xlabel(\"Sentiment score\") \n",
        "plt.ylabel(\"Entities\") \n",
        "plt.title(\"Product entities sentiment score\") \n",
        "plt.show() "
      ],
      "execution_count": null,
      "outputs": [
        {
          "output_type": "display_data",
          "data": {
            "image/png": "[encoded data removed]",
            "text/plain": [
              "<Figure size 720x360 with 1 Axes>"
            ]
          },
          "metadata": {
            "tags": [],
            "needs_background": "light"
          }
        }
      ]
    },
    {
      "cell_type": "code",
      "metadata": {
        "id": "TURW_4PA5J6v",
        "outputId": "76a239a4-0d35-482c-f270-6c17a1a5a9f5",
        "colab": {
          "base_uri": "https://localhost:8080/"
        }
      },
      "source": [
        "top_review_data[0]"
      ],
      "execution_count": null,
      "outputs": [
        {
          "output_type": "execute_result",
          "data": {
            "text/plain": [
              "{'b&n': \"i love reading, and in a lot of cases i found myself leaving a book at home because i didn't want to carry any heavy thingshis is great. i put in a small 512mb card and now it holds ~50 books. i gave it 4 stars only because the dictionary function isn't very good think it has a literal copy of a dictionary, which means it doesn't explain the word fully but still doesn't allow you to search for the meaning of a work in the translation window\",\n",
              " 'nook': \"barnes and noble hit one out of the park with this ereader. compact, great e-ink infrared touch screen, microsd card slot, two-month battery life, wifi, support for pdf and epub, and best of all, running android.the str has already been rooted, and handily runs android and a host of goodie apps - but even if you don't want to crack your unit, you'll still enjoy a nice ereader and simple-to-use interface:- fast, responsive, and crystal clear screen - even in sunlight- touch right or left sides of screen to page forwards or backwards - or - use the hardware buttons on the top sides of the frame- use 'shelves' to organize your titles- view titles as icons or in a list- insert bookmarks, notes- look up words instantly with its built-in dictionary- change fonts, font sizes on the fly- purchase titles via wifi or copy from your computer- and much moreno ereader is perfect, but this one comes close; i held off buying one until the market provided lots of choices - and the str is the one i've been waiting for.btw, if you have an ereader, you should also get the free cross-platform ebook app, calibre - it is an *essential* ereader companion, and can be used to convert drm-free ebooks to nearly any format for nearly all ereaders, include the new nook simple touch.\",\n",
              " 'price': \"barnes and noble hit one out of the park with this ereader. compact, great e-ink infrared touch screen, microsd card slot, two-month battery life, wifi, support for pdf and epub, and best of all, running android.the str has already been rooted, and handily runs android and a host of goodie apps - but even if you don't want to crack your unit, you'll still enjoy a nice ereader and simple-to-use interface:- fast, responsive, and crystal clear screen - even in sunlight- touch right or left sides of screen to page forwards or backwards - or - use the hardware buttons on the top sides of the frame- use 'shelves' to organize your titles- view titles as icons or in a list- insert bookmarks, notes- look up words instantly with its built-in dictionary- change fonts, font sizes on the fly- purchase titles via wifi or copy from your computer- and much moreno ereader is perfect, but this one comes close; i held off buying one until the market provided lots of choices - and the str is the one i've been waiting for.btw, if you have an ereader, you should also get the free cross-platform ebook app, calibre - it is an *essential* ereader companion, and can be used to convert drm-free ebooks to nearly any format for nearly all ereaders, include the new nook simple touch.\",\n",
              " 'product_id': '140053271X',\n",
              " 'screen': \"i love reading, and in a lot of cases i found myself leaving a book at home because i didn't want to carry any heavy thingshis is great. i put in a small 512mb card and now it holds ~50 books. i gave it 4 stars only because the dictionary function isn't very good think it has a literal copy of a dictionary, which means it doesn't explain the word fully but still doesn't allow you to search for the meaning of a work in the translation window\",\n",
              " 'touch': \"barnes and noble hit one out of the park with this ereader. compact, great e-ink infrared touch screen, microsd card slot, two-month battery life, wifi, support for pdf and epub, and best of all, running android.the str has already been rooted, and handily runs android and a host of goodie apps - but even if you don't want to crack your unit, you'll still enjoy a nice ereader and simple-to-use interface:- fast, responsive, and crystal clear screen - even in sunlight- touch right or left sides of screen to page forwards or backwards - or - use the hardware buttons on the top sides of the frame- use 'shelves' to organize your titles- view titles as icons or in a list- insert bookmarks, notes- look up words instantly with its built-in dictionary- change fonts, font sizes on the fly- purchase titles via wifi or copy from your computer- and much moreno ereader is perfect, but this one comes close; i held off buying one until the market provided lots of choices - and the str is the one i've been waiting for.btw, if you have an ereader, you should also get the free cross-platform ebook app, calibre - it is an *essential* ereader companion, and can be used to convert drm-free ebooks to nearly any format for nearly all ereaders, include the new nook simple touch.\"}"
            ]
          },
          "metadata": {
            "tags": []
          },
          "execution_count": 74
        }
      ]
    },
    {
      "cell_type": "markdown",
      "metadata": {
        "id": "phjX3umoINSg"
      },
      "source": [
        "## Product 2"
      ]
    },
    {
      "cell_type": "code",
      "metadata": {
        "id": "I2vH1TNm5hvX",
        "outputId": "4bbbd0d7-0e27-42d3-8063-6b4e5af7fe90",
        "colab": {
          "base_uri": "https://localhost:8080/"
        }
      },
      "source": [
        "sentiment_data[1]"
      ],
      "execution_count": null,
      "outputs": [
        {
          "output_type": "execute_result",
          "data": {
            "text/plain": [
              "{'b&n': 0.4404,\n",
              " 'color': 0.21075,\n",
              " 'price': 0.2202,\n",
              " 'product_id': '1400532655',\n",
              " 'reader': 0.0,\n",
              " 'screen': 0.4404}"
            ]
          },
          "metadata": {
            "tags": []
          },
          "execution_count": 75
        }
      ]
    },
    {
      "cell_type": "code",
      "metadata": {
        "id": "atJ3alYH-yjj",
        "outputId": "60e61091-56c8-4f10-cf25-cbd328753db7",
        "colab": {
          "base_uri": "https://localhost:8080/",
          "height": 350
        }
      },
      "source": [
        "   \n",
        "# creating the dataset\n",
        "sentiment_data[1].pop('product_id', None)\n",
        "\n",
        "data = sentiment_data[1]\n",
        "courses = list(data.keys()) \n",
        "values = list(data.values()) \n",
        "fig = plt.figure(figsize = (10, 5)) \n",
        "# creating the bar plot \n",
        "plt.bar(courses, values, color ='blue',  \n",
        "        width = 0.4) \n",
        "plt.xlabel(\"Sentiment score\") \n",
        "plt.ylabel(\"Entities\") \n",
        "plt.title(\"Product entities sentiment score\") \n",
        "plt.show() "
      ],
      "execution_count": null,
      "outputs": [
        {
          "output_type": "display_data",
          "data": {
            "image/png": "[encoded data removed]",
            "text/plain": [
              "<Figure size 720x360 with 1 Axes>"
            ]
          },
          "metadata": {
            "tags": [],
            "needs_background": "light"
          }
        }
      ]
    },
    {
      "cell_type": "code",
      "metadata": {
        "id": "qkEnsLd15R9g",
        "outputId": "fcd7bf76-e3d8-4c0a-f25c-eebcd008d380",
        "colab": {
          "base_uri": "https://localhost:8080/"
        }
      },
      "source": [
        "top_review_data[1]"
      ],
      "execution_count": null,
      "outputs": [
        {
          "output_type": "execute_result",
          "data": {
            "text/plain": [
              "{'b&n': 'i got this as a gift about 5 months agoit does a few things well, like being backlit so you can read it at night with no lightsafter that it is all downhillbattery life is about that of a really long life laptopat the store they told me not to expect anything better than 8 hoursand if you are not connected to wifi like i was not at a cabin for 2 weeks you can\\'t even set the time, there is no function to do thati mean really and if you want to archive a book you can\\'t because that is only an on-line functionany files you add can only be deleted when connected to a laptopin bright sunlight it is barely visible unless you find some shadeif you are not connected to wifi and your book expires, then the little book icon gives you a message that says \"the content is no longer available\"what that content is remains a mystery to me and you cannot fix the error until you connect to wifi, after which it miraculously fixes itselfl in all this may be usable like a really slow laptop around the house, but for traveling its not worth lugging aroundreally, why even use it around the house when i have a fast laptop already that does a lot morethis thing is just not ready for prime time, paper books beat it hands downget a good led book reader light and keep your $asked at the store if i could return it and they said only within the first 2 weeks with a receipt, so buyer bewarebig time.',\n",
              " 'color': 'the nook color is a mixed bag of a product with some highs and lowse hardware on the nook color is very nicee screen, though not a super hi-def retina like high end tabs, is bright and great for books, video, comics, etcit feels solid and sturdy but not overly heavya nice addition is the sd card slot hidden in the back which can be used to expand storage or, if you\\'re resourceful (or purchase a nook 2 android card) convert your nook into a full-fledged android tablet on the cheape interface in the nook color is adequate but not amazingrnes and noble created their own \"flavor\" of android for this readerwhile it\\'s not highly customization or super elegant it\\'s well suited for the intended purposes of this tablet: media consumptionas noted above, this reader can run full android quite well if modded, and still run a nook appckluster appsapp support for this reader is very spartanyou\\'ll find some simple games, netflix (finally) and a few others, but it\\'s not a lot to write home about you want a simple reader with a nice screen for ereading, this isn\\'t a bad buy if you can get one at a good price (i wouldn\\'t pay more than 110 at the moment)otherwise, it\\'s a great android tablet if you mod it yourself or take the safer route of using a nook 2 android card).',\n",
              " 'price': 'the nook color is a mixed bag of a product with some highs and lowse hardware on the nook color is very nicee screen, though not a super hi-def retina like high end tabs, is bright and great for books, video, comics, etcit feels solid and sturdy but not overly heavya nice addition is the sd card slot hidden in the back which can be used to expand storage or, if you\\'re resourceful (or purchase a nook 2 android card) convert your nook into a full-fledged android tablet on the cheape interface in the nook color is adequate but not amazingrnes and noble created their own \"flavor\" of android for this readerwhile it\\'s not highly customization or super elegant it\\'s well suited for the intended purposes of this tablet: media consumptionas noted above, this reader can run full android quite well if modded, and still run a nook appckluster appsapp support for this reader is very spartanyou\\'ll find some simple games, netflix (finally) and a few others, but it\\'s not a lot to write home about you want a simple reader with a nice screen for ereading, this isn\\'t a bad buy if you can get one at a good price (i wouldn\\'t pay more than 110 at the moment)otherwise, it\\'s a great android tablet if you mod it yourself or take the safer route of using a nook 2 android card).',\n",
              " 'product_id': '1400532655',\n",
              " 'reader': 'the nook color is a mixed bag of a product with some highs and lowse hardware on the nook color is very nicee screen, though not a super hi-def retina like high end tabs, is bright and great for books, video, comics, etcit feels solid and sturdy but not overly heavya nice addition is the sd card slot hidden in the back which can be used to expand storage or, if you\\'re resourceful (or purchase a nook 2 android card) convert your nook into a full-fledged android tablet on the cheape interface in the nook color is adequate but not amazingrnes and noble created their own \"flavor\" of android for this readerwhile it\\'s not highly customization or super elegant it\\'s well suited for the intended purposes of this tablet: media consumptionas noted above, this reader can run full android quite well if modded, and still run a nook appckluster appsapp support for this reader is very spartanyou\\'ll find some simple games, netflix (finally) and a few others, but it\\'s not a lot to write home about you want a simple reader with a nice screen for ereading, this isn\\'t a bad buy if you can get one at a good price (i wouldn\\'t pay more than 110 at the moment)otherwise, it\\'s a great android tablet if you mod it yourself or take the safer route of using a nook 2 android card).',\n",
              " 'screen': 'the nook color is a mixed bag of a product with some highs and lowse hardware on the nook color is very nicee screen, though not a super hi-def retina like high end tabs, is bright and great for books, video, comics, etcit feels solid and sturdy but not overly heavya nice addition is the sd card slot hidden in the back which can be used to expand storage or, if you\\'re resourceful (or purchase a nook 2 android card) convert your nook into a full-fledged android tablet on the cheape interface in the nook color is adequate but not amazingrnes and noble created their own \"flavor\" of android for this readerwhile it\\'s not highly customization or super elegant it\\'s well suited for the intended purposes of this tablet: media consumptionas noted above, this reader can run full android quite well if modded, and still run a nook appckluster appsapp support for this reader is very spartanyou\\'ll find some simple games, netflix (finally) and a few others, but it\\'s not a lot to write home about you want a simple reader with a nice screen for ereading, this isn\\'t a bad buy if you can get one at a good price (i wouldn\\'t pay more than 110 at the moment)otherwise, it\\'s a great android tablet if you mod it yourself or take the safer route of using a nook 2 android card).'}"
            ]
          },
          "metadata": {
            "tags": []
          },
          "execution_count": 77
        }
      ]
    },
    {
      "cell_type": "markdown",
      "metadata": {
        "id": "-pJRYG9aIWZx"
      },
      "source": [
        "## Product 3"
      ]
    },
    {
      "cell_type": "code",
      "metadata": {
        "id": "OtcwiUir5jGz",
        "outputId": "86173200-ef19-4773-e3b6-e2c02e95cc9c",
        "colab": {
          "base_uri": "https://localhost:8080/"
        }
      },
      "source": [
        "sentiment_data[2]"
      ],
      "execution_count": null,
      "outputs": [
        {
          "output_type": "execute_result",
          "data": {
            "text/plain": [
              "{'connector': 0.0,\n",
              " 'hdmi': 0.0,\n",
              " 'price': 0.3182,\n",
              " 'product_id': '9981739588',\n",
              " 'tv': 0.4404,\n",
              " 'works': 0.0}"
            ]
          },
          "metadata": {
            "tags": []
          },
          "execution_count": 78
        }
      ]
    },
    {
      "cell_type": "code",
      "metadata": {
        "id": "tDKQTShS-4uJ",
        "outputId": "52d89af0-ae08-4b24-a590-7d47d7f39b53",
        "colab": {
          "base_uri": "https://localhost:8080/",
          "height": 350
        }
      },
      "source": [
        "   \n",
        "# creating the dataset\n",
        "sentiment_data[2].pop('product_id', None)\n",
        "\n",
        "data = sentiment_data[2]\n",
        "courses = list(data.keys()) \n",
        "values = list(data.values()) \n",
        "fig = plt.figure(figsize = (10, 5)) \n",
        "# creating the bar plot \n",
        "plt.bar(courses, values, color ='blue',  \n",
        "        width = 0.4) \n",
        "plt.xlabel(\"Sentiment score\") \n",
        "plt.ylabel(\"Entities\") \n",
        "plt.title(\"Product entities sentiment score\") \n",
        "plt.show() "
      ],
      "execution_count": null,
      "outputs": [
        {
          "output_type": "display_data",
          "data": {
            "image/png": "[encoded data removed]",
            "text/plain": [
              "<Figure size 720x360 with 1 Axes>"
            ]
          },
          "metadata": {
            "tags": [],
            "needs_background": "light"
          }
        }
      ]
    },
    {
      "cell_type": "code",
      "metadata": {
        "id": "O8oPHMU55T5f",
        "outputId": "9cfa2e81-f06b-4514-b89f-f00a2a60016d",
        "colab": {
          "base_uri": "https://localhost:8080/"
        }
      },
      "source": [
        "top_review_data[2]"
      ],
      "execution_count": null,
      "outputs": [
        {
          "output_type": "execute_result",
          "data": {
            "text/plain": [
              "{'connector': 'ordered this to leave connected to an hdmi port on the upstairs tv so my wife could connect her tablet to the tvt works great and appears well made and should last a long time, especially where only the mini-hdmi connector will the inserted and removed multiple timeso issues with it being loose, weak, or ready to breakard to beat the price with a nominal shipping charget arrived in its own bag inside of a shipping bag in perfect condition, and the shipping was exactly when they said it would be.',\n",
              " 'hdmi': 'ordered this to leave connected to an hdmi port on the upstairs tv so my wife could connect her tablet to the tvt works great and appears well made and should last a long time, especially where only the mini-hdmi connector will the inserted and removed multiple timeso issues with it being loose, weak, or ready to breakard to beat the price with a nominal shipping charget arrived in its own bag inside of a shipping bag in perfect condition, and the shipping was exactly when they said it would be.',\n",
              " 'price': 'just to give you a brief history, i had contacted citi electronics before buying this product, if it is going to be compatible with my canon hf200 video cameraheir response; yesonsidering how much the original one costs, i went the cheaper route; and it bit me right backhis cable does not workiti electronics lied (just another california bases electronics retailer selling chinese junk)ow, they expect me to pay for shipping even if the product is defectiveonder if amazon even goes through a selection process anymoreverall, a very very bad experienceever buying anything from citi electronics againill have to buy original canon cablehere should be a way of actually making it zero star.',\n",
              " 'product_id': '9981739588',\n",
              " 'tv': \"this cable for under $7 was every bit as good as the ones sold in camera stores for $40+ dollarsi'm very happy with my purchase.\",\n",
              " 'works': 'i needed an hdmi cable to connect my camcorder to the flat screen tvdid not wanted to hassle and see it on rca cablescables work and were cheap.'}"
            ]
          },
          "metadata": {
            "tags": []
          },
          "execution_count": 80
        }
      ]
    },
    {
      "cell_type": "markdown",
      "metadata": {
        "id": "0mlhY-FCIc6Z"
      },
      "source": [
        "## Product 4"
      ]
    },
    {
      "cell_type": "code",
      "metadata": {
        "id": "_UB0wIzL5mWi",
        "outputId": "bbd45e05-7029-4a48-b8ae-e9c873c402d3",
        "colab": {
          "base_uri": "https://localhost:8080/"
        }
      },
      "source": [
        "sentiment_data[3]"
      ],
      "execution_count": null,
      "outputs": [
        {
          "output_type": "execute_result",
          "data": {
            "text/plain": [
              "{'books': 0.3612,\n",
              " 'isin': 0.0,\n",
              " 'nook': 0.0,\n",
              " 'product_id': '1400532620',\n",
              " 'screen': 0.0,\n",
              " 'thing': 0.3182}"
            ]
          },
          "metadata": {
            "tags": []
          },
          "execution_count": 81
        }
      ]
    },
    {
      "cell_type": "code",
      "metadata": {
        "id": "Y8aJLgAY_Hud",
        "outputId": "83301477-8ac8-4d62-82e5-44b50a7ee567",
        "colab": {
          "base_uri": "https://localhost:8080/",
          "height": 350
        }
      },
      "source": [
        "   \n",
        "# creating the dataset\n",
        "sentiment_data[3].pop('product_id', None)\n",
        "\n",
        "data = sentiment_data[3]\n",
        "courses = list(data.keys()) \n",
        "values = list(data.values()) \n",
        "fig = plt.figure(figsize = (10, 5)) \n",
        "# creating the bar plot \n",
        "plt.bar(courses, values, color ='blue',  \n",
        "        width = 0.4) \n",
        "plt.xlabel(\"Sentiment score\") \n",
        "plt.ylabel(\"Entities\") \n",
        "plt.title(\"Product entities sentiment score\") \n",
        "plt.show() "
      ],
      "execution_count": null,
      "outputs": [
        {
          "output_type": "display_data",
          "data": {
            "image/png": "[encoded data removed]",
            "text/plain": [
              "<Figure size 720x360 with 1 Axes>"
            ]
          },
          "metadata": {
            "tags": [],
            "needs_background": "light"
          }
        }
      ]
    },
    {
      "cell_type": "code",
      "metadata": {
        "id": "YS-Q1Q2-5VHb",
        "outputId": "fd8807de-c5e2-40c3-8e41-be390b93e9a3",
        "colab": {
          "base_uri": "https://localhost:8080/"
        }
      },
      "source": [
        "top_review_data[3]"
      ],
      "execution_count": null,
      "outputs": [
        {
          "output_type": "execute_result",
          "data": {
            "text/plain": [
              "{'books': 'with these new ereaders on the market, the act of reading has come back to be a very \"in-style,\" technologically advanced and hip thing to do in 2010ooks are now less intimidating and more fun and convenient, and this becomes only more encouraged through barnes and noble\\'s nookw, to cut to the chase, the nook can do most things that the amazon kindle can do as well, and while the kindle holds some ground over the nook, on an overall scale, if you\\'re looking for a better and more convenient ereader, i\\'d say to go for the nookth the kindle and nook have clear displays, but overall, i would say that the kindle\\'s display seems to have better resolutionhe kindle also beats the nook on battery life (as you\\'ll notice that the nooks battery life seems to last about a week, whereas the kindle about a month, this is due to the draining power of the nook\\'s light-up touch screen menu)eople may also prefer the button keyboard operation of the kindle over the nooks sometimes annoyingly sensitive or not-sensitive-enough touch screenhe kindle is also thinner and lighter than the nookoth have mp3 features though, which helps themt\\'s always great to be able to read to your favorite musicw, while it may seem in this paragraph the kindle has the nook easily beaten, one must look deeper into finding out why the nook is a better choicehe reason the nook beats the kindle is easy - in its navigation, presentation and overall ease of usee biggest problem with the kindle (that i noticed) is that the kindle seems to want to have the look and feel of navigating like a laptop computer in the way it presents the main menu and font size, style and book selectionhe problem with this is one thing - this is not a computer, it\\'s a portable book, and barnes and noble knows this, and made their unit feel way less like just another annoying technological gadget but instead with a \"browsing bookstore\" type of presentationhis is a very big difference between the two, and you can sense it even after just a few minutes of toying with itnd this is only talking about the older nook, i can only imagine how much more amazing of a presentation the color nook can get with all of its full color pictures and extras top of this, the kindle seems to have placed the turn-page buttons way too attached to the ends, so you actually end up hitting the buttons by accident way too often, whereas the nooks buttons are more of a soft \"bendable plastic\" type, so you never hit them by accidenthis, on top of the little things like being able to slide your finger on the touch screen to turn pages as well as getting book covers and previews, daily logs, etc, give the nook an overall more \"coffee house\" feel which the kindle doesn\\'t even come close tond even though the nook is bulkier and heavier, it actually is made of a more durable softer rubber-like material, and along with the white paneling it makes it feel overall way more professional and studiousot to mention just more attractive and stylishhis is easily the hipper of the two ereadersherefore, things like slightly longer load times, heavier feel, sometimes annoying touch screen and slightly higher price are actually very tolerable once you pick up both units and see and feel the overall differenceoks are an old-fashioned type of entertainment, and while the kindle tries to make reading and literature just another tacked on 21st century technological piece of unrelatable modernized hardware, the nook walks the perfect line of bringing the \"old-fashioned\" hobby of reading to a hipper style for the 21st century without taking away the studious professionalism of reading or disrespect the art of literature eitherhe transition is so much smoother on the nook that you\\'ll forget you\\'re even reading off of an electronic device.',\n",
              " 'isin': \"the battery is great-about 12-14 hours from 80% chargedi was wondering how i would like an e-reader vers a book, and i must say that i don't even notice the differencelove everything about itthe only thing that could be better is the on/off function and wi-fithe power button is very sensistive and is tricky to turn on (at first)the ewifi range is shortmaybe 30 ft from my router is all i can goother than thatit works great, and at a very fair price\",\n",
              " 'nook': \"the battery is great-about 12-14 hours from 80% chargedi was wondering how i would like an e-reader vers a book, and i must say that i don't even notice the differencelove everything about itthe only thing that could be better is the on/off function and wi-fithe power button is very sensistive and is tricky to turn on (at first)the ewifi range is shortmaybe 30 ft from my router is all i can goother than thatit works great, and at a very fair price\",\n",
              " 'product_id': '1400532620',\n",
              " 'screen': \"the battery is great-about 12-14 hours from 80% chargedi was wondering how i would like an e-reader vers a book, and i must say that i don't even notice the differencelove everything about itthe only thing that could be better is the on/off function and wi-fithe power button is very sensistive and is tricky to turn on (at first)the ewifi range is shortmaybe 30 ft from my router is all i can goother than thatit works great, and at a very fair price\",\n",
              " 'thing': \"the battery is great-about 12-14 hours from 80% chargedi was wondering how i would like an e-reader vers a book, and i must say that i don't even notice the differencelove everything about itthe only thing that could be better is the on/off function and wi-fithe power button is very sensistive and is tricky to turn on (at first)the ewifi range is shortmaybe 30 ft from my router is all i can goother than thatit works great, and at a very fair price\"}"
            ]
          },
          "metadata": {
            "tags": []
          },
          "execution_count": 83
        }
      ]
    },
    {
      "cell_type": "markdown",
      "metadata": {
        "id": "AH_id_0HIhkS"
      },
      "source": [
        "## Product 5"
      ]
    },
    {
      "cell_type": "code",
      "metadata": {
        "id": "f56OB9C75oxZ",
        "outputId": "25d8f4a6-7559-4be5-8492-0eb8d98f8955",
        "colab": {
          "base_uri": "https://localhost:8080/"
        }
      },
      "source": [
        "sentiment_data[4]"
      ],
      "execution_count": null,
      "outputs": [
        {
          "output_type": "execute_result",
          "data": {
            "text/plain": [
              "{'burner': 0.6249,\n",
              " 'drive': 0.0,\n",
              " 'netbooks': 0.0,\n",
              " 'port': 0.0,\n",
              " 'product_id': '9573212900',\n",
              " 'scripts': 0.0}"
            ]
          },
          "metadata": {
            "tags": []
          },
          "execution_count": 84
        }
      ]
    },
    {
      "cell_type": "code",
      "metadata": {
        "id": "6zqVMvv6_ULS",
        "outputId": "28562f90-c760-430d-98d9-82fc66eb882f",
        "colab": {
          "base_uri": "https://localhost:8080/",
          "height": 350
        }
      },
      "source": [
        "   \n",
        "# creating the dataset\n",
        "sentiment_data[4].pop('product_id', None)\n",
        "\n",
        "data = sentiment_data[4]\n",
        "courses = list(data.keys()) \n",
        "values = list(data.values()) \n",
        "fig = plt.figure(figsize = (10, 5)) \n",
        "# creating the bar plot \n",
        "plt.bar(courses, values, color ='blue',  \n",
        "        width = 0.4) \n",
        "plt.xlabel(\"Sentiment score\") \n",
        "plt.ylabel(\"Entities\") \n",
        "plt.title(\"Product entities sentiment score\") \n",
        "plt.show() "
      ],
      "execution_count": null,
      "outputs": [
        {
          "output_type": "display_data",
          "data": {
            "image/png": "[encoded data removed]",
            "text/plain": [
              "<Figure size 720x360 with 1 Axes>"
            ]
          },
          "metadata": {
            "tags": [],
            "needs_background": "light"
          }
        }
      ]
    },
    {
      "cell_type": "code",
      "metadata": {
        "id": "x2Ie91Fd5VEq",
        "outputId": "4574656b-7f64-4e5b-c599-657c30b1cd8e",
        "colab": {
          "base_uri": "https://localhost:8080/"
        }
      },
      "source": [
        "top_review_data[4]"
      ],
      "execution_count": null,
      "outputs": [
        {
          "output_type": "execute_result",
          "data": {
            "text/plain": [
              "{'burner': 'i have had this for a couple monthssed it to load win7 on a acer netbookorked just great.',\n",
              " 'drive': \"the acer aspire netbook is sold with windows xp operating systemthis dvd/cd burner is sold with the windows me driver, a generation behind the xpi tried downloading an updated driver from microsoft, no goi tried contacting cbear, hoping they would support their product, nothing. $25 paperweight is now what i haveamazon should drop cbear as a re-seller(it's not microsoft's job to support cbear's hardware, it's cbear's job to support their productnot even ansering my email is not acceptable.)\",\n",
              " 'netbooks': \"i bought this drive to go with my netbook, since netbooks are too small for a drive with removable media based my decision on size, price, and the fact that you do not need to use two usb cables to power this uphis plays cd's and dvd's as well as any internal drive in a laptop can watch movies, play music and install softwareo big deal to pack it with the netbook and take it with youxcellent product, would highly recommed.\",\n",
              " 'port': 'i bought this because my compaq dvd drive is not working too wellhe external drive installed and seemed to do its stuff without any problems on win7t comes with an extra usb cable to provide extra power to the drive if your primary usb port is not sufficient,on the acer i use for streaming to my tv, it was just plug in and use, no further installation was required, also a win7 machine.',\n",
              " 'product_id': '9573212900',\n",
              " 'scripts': \"i couldn't use this drive with acer's aspire one erecovery utility but have determined it is acer's software problem, not a problem with the drive itselfbut what i learned in trying to get help from cbear was that (1) they can barely write english, (2) their first strategy is to send you all of the pre-written scripts that have nothing to do with your problem and, (3) if you persist, they will express doubt that there is a problem but will (grudgingly) agree to let you return the producti didn't need to do that because the drive works with software other that acer's erecovery but note that returns subtract 15% of the purchase price plus you pay for shippingi determined that the drive i received is an unlabeled oem toshiba drive and that's a respectable brand.\"}"
            ]
          },
          "metadata": {
            "tags": []
          },
          "execution_count": 86
        }
      ]
    },
    {
      "cell_type": "markdown",
      "metadata": {
        "id": "38I_u6EaImdU"
      },
      "source": [
        "## Product 6\n"
      ]
    },
    {
      "cell_type": "code",
      "metadata": {
        "id": "iAeBE-3h5qUT",
        "outputId": "462f1589-31ac-446c-f7c7-907c1184ecf8",
        "colab": {
          "base_uri": "https://localhost:8080/"
        }
      },
      "source": [
        "sentiment_data[5]"
      ],
      "execution_count": null,
      "outputs": [
        {
          "output_type": "execute_result",
          "data": {
            "text/plain": [
              "{'780': 0.4019,\n",
              " 'anything': 0.0,\n",
              " 'cable': 0.0,\n",
              " 'card': 0.0,\n",
              " 'monitor': 0.0,\n",
              " 'product_id': '8918010656'}"
            ]
          },
          "metadata": {
            "tags": []
          },
          "execution_count": 87
        }
      ]
    },
    {
      "cell_type": "code",
      "metadata": {
        "id": "myGQXbHg_Y0i",
        "outputId": "d8a6c88f-805b-46b3-e35a-4adb5eeb6348",
        "colab": {
          "base_uri": "https://localhost:8080/",
          "height": 350
        }
      },
      "source": [
        "   \n",
        "# creating the dataset\n",
        "sentiment_data[5].pop('product_id', None)\n",
        "\n",
        "data = sentiment_data[5]\n",
        "courses = list(data.keys()) \n",
        "values = list(data.values()) \n",
        "fig = plt.figure(figsize = (10, 5)) \n",
        "# creating the bar plot \n",
        "plt.bar(courses, values, color ='blue',  \n",
        "        width = 0.4) \n",
        "plt.xlabel(\"Sentiment score\") \n",
        "plt.ylabel(\"Entities\") \n",
        "plt.title(\"Product entities sentiment score\") \n",
        "plt.show() "
      ],
      "execution_count": null,
      "outputs": [
        {
          "output_type": "display_data",
          "data": {
            "image/png": "[encoded data removed]",
            "text/plain": [
              "<Figure size 720x360 with 1 Axes>"
            ]
          },
          "metadata": {
            "tags": [],
            "needs_background": "light"
          }
        }
      ]
    },
    {
      "cell_type": "code",
      "metadata": {
        "id": "N0KVFqWa5Yho",
        "outputId": "c5e4a2a5-f7a5-4bd6-c4b9-7383968be9c1",
        "colab": {
          "base_uri": "https://localhost:8080/"
        }
      },
      "source": [
        "top_review_data[5]"
      ],
      "execution_count": null,
      "outputs": [
        {
          "output_type": "execute_result",
          "data": {
            "text/plain": [
              "{'780': \"much better than the 1440p qnix and destroys all 1080pis puts all the 120/144 hz stuff to bednless you play *seriously* competitively (and you probably do not), then 1600p ips absolutely destroys 1080 monitors with much higher refresh rateshose are ok monitors and just fine, but if you have the horsepower( r9 290 or 290x, 780 or 780ti can definitely max this baby, other slightly lower cards still work very well, as well as crossfire and sli), get this dead pixels, gorgeous screen, and a really good standtraight monitor with no bs featurest turns ont's a bosst turns off.\",\n",
              " 'anything': 'here\\'s what you want to knowe stand is finethere are only 5 working buttons on thisthis is the power button, a brightness button(s), and volume buttonsthere is no other screens, setups, no calibrations, etcall of that has to be done on your pc connected to thisit is literally a straight monitoras advertised, not 1 dead pixelsolutions excellentere is a powerbrick with this item (just an fyi)haven\\'t had any issues with it mount the monitor on the monitor mount, put the backend on first, then put the big base on the 4 feet, screw them in (recommend using a drill on a very low setting to affix itthe dvi connector is a good lengthd recommend itent from a dual monitors at 1920x1080 (24 inch) to this beastnight and dayi can have two documents up side by side with room to spare (my girl reviews allot of documents, and she was liking this hunking thing too)it is a \"large\" monitor (comparable to a 30 inch tv)s the instructions are in korean, who caresthe box has the whole sparta theme on it, don\\'t care eitherit is a good monitor, good response time, awesome resolutionwould do this monitor at 2560x1600 vs a 4k monitor for 4 reasons 4k monitors are $1,000+yes there are cheaper ones but there cheaper because2) most 4k monitors run at 30hzbasically it means that the monitor can only display 30hzthis monitor displays at 60 hz (which is fantastic)to clarify, essentially hz is pretty much how much fps a monitor can display per secondnow you can have a 4k monitor but if your graphics card is kicking at 1000 fps, your monitor will only support 30 fps of it (its a dumbed down version of it but hz matter, and you want at least 60, if not more3) 4k monitors may require more than 1 connection (aka 2 dvi port connections) to run well 4k is still reaaaaly newthere working the bugs out regarding creating a gaming 4k monitor that isn\\'t over $1000is is a 30 inch monitor, well under the 700 to 800 pricerange of other monitors that do the same thing as this one the gamers out there, loaded up counter strike, awesomenauts, eve online, all ran at this resolution, full screen, no bars.',\n",
              " 'cable': 'here\\'s what you want to knowe stand is finethere are only 5 working buttons on thisthis is the power button, a brightness button(s), and volume buttonsthere is no other screens, setups, no calibrations, etcall of that has to be done on your pc connected to thisit is literally a straight monitoras advertised, not 1 dead pixelsolutions excellentere is a powerbrick with this item (just an fyi)haven\\'t had any issues with it mount the monitor on the monitor mount, put the backend on first, then put the big base on the 4 feet, screw them in (recommend using a drill on a very low setting to affix itthe dvi connector is a good lengthd recommend itent from a dual monitors at 1920x1080 (24 inch) to this beastnight and dayi can have two documents up side by side with room to spare (my girl reviews allot of documents, and she was liking this hunking thing too)it is a \"large\" monitor (comparable to a 30 inch tv)s the instructions are in korean, who caresthe box has the whole sparta theme on it, don\\'t care eitherit is a good monitor, good response time, awesome resolutionwould do this monitor at 2560x1600 vs a 4k monitor for 4 reasons 4k monitors are $1,000+yes there are cheaper ones but there cheaper because2) most 4k monitors run at 30hzbasically it means that the monitor can only display 30hzthis monitor displays at 60 hz (which is fantastic)to clarify, essentially hz is pretty much how much fps a monitor can display per secondnow you can have a 4k monitor but if your graphics card is kicking at 1000 fps, your monitor will only support 30 fps of it (its a dumbed down version of it but hz matter, and you want at least 60, if not more3) 4k monitors may require more than 1 connection (aka 2 dvi port connections) to run well 4k is still reaaaaly newthere working the bugs out regarding creating a gaming 4k monitor that isn\\'t over $1000is is a 30 inch monitor, well under the 700 to 800 pricerange of other monitors that do the same thing as this one the gamers out there, loaded up counter strike, awesomenauts, eve online, all ran at this resolution, full screen, no bars.',\n",
              " 'card': 'here\\'s what you want to knowe stand is finethere are only 5 working buttons on thisthis is the power button, a brightness button(s), and volume buttonsthere is no other screens, setups, no calibrations, etcall of that has to be done on your pc connected to thisit is literally a straight monitoras advertised, not 1 dead pixelsolutions excellentere is a powerbrick with this item (just an fyi)haven\\'t had any issues with it mount the monitor on the monitor mount, put the backend on first, then put the big base on the 4 feet, screw them in (recommend using a drill on a very low setting to affix itthe dvi connector is a good lengthd recommend itent from a dual monitors at 1920x1080 (24 inch) to this beastnight and dayi can have two documents up side by side with room to spare (my girl reviews allot of documents, and she was liking this hunking thing too)it is a \"large\" monitor (comparable to a 30 inch tv)s the instructions are in korean, who caresthe box has the whole sparta theme on it, don\\'t care eitherit is a good monitor, good response time, awesome resolutionwould do this monitor at 2560x1600 vs a 4k monitor for 4 reasons 4k monitors are $1,000+yes there are cheaper ones but there cheaper because2) most 4k monitors run at 30hzbasically it means that the monitor can only display 30hzthis monitor displays at 60 hz (which is fantastic)to clarify, essentially hz is pretty much how much fps a monitor can display per secondnow you can have a 4k monitor but if your graphics card is kicking at 1000 fps, your monitor will only support 30 fps of it (its a dumbed down version of it but hz matter, and you want at least 60, if not more3) 4k monitors may require more than 1 connection (aka 2 dvi port connections) to run well 4k is still reaaaaly newthere working the bugs out regarding creating a gaming 4k monitor that isn\\'t over $1000is is a 30 inch monitor, well under the 700 to 800 pricerange of other monitors that do the same thing as this one the gamers out there, loaded up counter strike, awesomenauts, eve online, all ran at this resolution, full screen, no bars.',\n",
              " 'monitor': 'here\\'s what you want to knowe stand is finethere are only 5 working buttons on thisthis is the power button, a brightness button(s), and volume buttonsthere is no other screens, setups, no calibrations, etcall of that has to be done on your pc connected to thisit is literally a straight monitoras advertised, not 1 dead pixelsolutions excellentere is a powerbrick with this item (just an fyi)haven\\'t had any issues with it mount the monitor on the monitor mount, put the backend on first, then put the big base on the 4 feet, screw them in (recommend using a drill on a very low setting to affix itthe dvi connector is a good lengthd recommend itent from a dual monitors at 1920x1080 (24 inch) to this beastnight and dayi can have two documents up side by side with room to spare (my girl reviews allot of documents, and she was liking this hunking thing too)it is a \"large\" monitor (comparable to a 30 inch tv)s the instructions are in korean, who caresthe box has the whole sparta theme on it, don\\'t care eitherit is a good monitor, good response time, awesome resolutionwould do this monitor at 2560x1600 vs a 4k monitor for 4 reasons 4k monitors are $1,000+yes there are cheaper ones but there cheaper because2) most 4k monitors run at 30hzbasically it means that the monitor can only display 30hzthis monitor displays at 60 hz (which is fantastic)to clarify, essentially hz is pretty much how much fps a monitor can display per secondnow you can have a 4k monitor but if your graphics card is kicking at 1000 fps, your monitor will only support 30 fps of it (its a dumbed down version of it but hz matter, and you want at least 60, if not more3) 4k monitors may require more than 1 connection (aka 2 dvi port connections) to run well 4k is still reaaaaly newthere working the bugs out regarding creating a gaming 4k monitor that isn\\'t over $1000is is a 30 inch monitor, well under the 700 to 800 pricerange of other monitors that do the same thing as this one the gamers out there, loaded up counter strike, awesomenauts, eve online, all ran at this resolution, full screen, no bars.',\n",
              " 'product_id': '8918010656'}"
            ]
          },
          "metadata": {
            "tags": []
          },
          "execution_count": 89
        }
      ]
    },
    {
      "cell_type": "markdown",
      "metadata": {
        "id": "6YthpqtPI6wu"
      },
      "source": [
        "## Product 7"
      ]
    },
    {
      "cell_type": "code",
      "metadata": {
        "id": "EeZwxwTa5rkx",
        "outputId": "e9f04b1b-a125-4913-a985-7202bbf2fae6",
        "colab": {
          "base_uri": "https://localhost:8080/"
        }
      },
      "source": [
        "sentiment_data[6]"
      ],
      "execution_count": null,
      "outputs": [
        {
          "output_type": "execute_result",
          "data": {
            "text/plain": [
              "{'cables': 0.0,\n",
              " 'camera': 0.0,\n",
              " 'length': 0.2202,\n",
              " 'photos': 0.5719,\n",
              " 'price': 0.4404,\n",
              " 'product_id': '9983891204'}"
            ]
          },
          "metadata": {
            "tags": []
          },
          "execution_count": 90
        }
      ]
    },
    {
      "cell_type": "code",
      "metadata": {
        "id": "n8XCMVXu_gGd",
        "outputId": "5dba1a13-d28e-4a48-a23b-b5c1292a3f6e",
        "colab": {
          "base_uri": "https://localhost:8080/",
          "height": 350
        }
      },
      "source": [
        "   \n",
        "# creating the dataset\n",
        "sentiment_data[6].pop('product_id', None)\n",
        "\n",
        "data = sentiment_data[6]\n",
        "courses = list(data.keys()) \n",
        "values = list(data.values()) \n",
        "fig = plt.figure(figsize = (10, 5)) \n",
        "# creating the bar plot \n",
        "plt.bar(courses, values, color ='blue',  \n",
        "        width = 0.4) \n",
        "plt.xlabel(\"Sentiment score\") \n",
        "plt.ylabel(\"Entities\") \n",
        "plt.title(\"Product entities sentiment score\") \n",
        "plt.show() "
      ],
      "execution_count": null,
      "outputs": [
        {
          "output_type": "display_data",
          "data": {
            "image/png": "[encoded data removed]",
            "text/plain": [
              "<Figure size 720x360 with 1 Axes>"
            ]
          },
          "metadata": {
            "tags": [],
            "needs_background": "light"
          }
        }
      ]
    },
    {
      "cell_type": "code",
      "metadata": {
        "id": "-iYurmTR5ZoI",
        "outputId": "2e1346cd-4741-4d9e-d836-e3b83367b16d",
        "colab": {
          "base_uri": "https://localhost:8080/"
        }
      },
      "source": [
        "top_review_data[6]"
      ],
      "execution_count": null,
      "outputs": [
        {
          "output_type": "execute_result",
          "data": {
            "text/plain": [
              "{'cables': 'the cable itself is very flimsy compared to the oem canonseems to work ok so represents exceptional value for money.',\n",
              " 'camera': \"and i like the lengthkes it much easier to make the connection between the cfamera and the tvmy tv is mounted high on the wall, so length is essential if the camera is not to be danglingi haven't yet used the cable, but it appears to be strong and flexible.\",\n",
              " 'length': 'i found a tiny hdmi jack on my the canon sx20-is powershot and found no one had one in-stock locally and special order- i needed to take out a loanhis cable worked perfectly, no issuesow my still camera can output full hd video/audioignal delivered without errors to monitor0 feet is a good length for getting around to the back of monitors or wall mounts.',\n",
              " 'photos': 'just what i wanted to review photos on my camera via my hd tvi can sit across the room from the tv and get an excellent view.',\n",
              " 'price': \"very good and normal qualityou can use it instead of originalsheapuitable for canon sx40hs haven't more words but the site required more words so i wrote that ;)\",\n",
              " 'product_id': '9983891204'}"
            ]
          },
          "metadata": {
            "tags": []
          },
          "execution_count": 92
        }
      ]
    },
    {
      "cell_type": "markdown",
      "metadata": {
        "id": "F9CjAcI5JBw5"
      },
      "source": [
        "## Product 8"
      ]
    },
    {
      "cell_type": "code",
      "metadata": {
        "id": "X09a3VKG5s-y",
        "outputId": "65ba9675-5cd1-4c56-d702-5966a393ae47",
        "colab": {
          "base_uri": "https://localhost:8080/"
        }
      },
      "source": [
        "sentiment_data[7]"
      ],
      "execution_count": null,
      "outputs": [
        {
          "output_type": "execute_result",
          "data": {
            "text/plain": [
              "{'apps': 0.0,\n",
              " 'memo': 0.0,\n",
              " 'product_id': '9862510447',\n",
              " 'size': 0.4215,\n",
              " 'speakers': 0.0,\n",
              " 'tool': 0.6249}"
            ]
          },
          "metadata": {
            "tags": []
          },
          "execution_count": 93
        }
      ]
    },
    {
      "cell_type": "code",
      "metadata": {
        "id": "NPNajMrl_knI",
        "outputId": "2b52697b-3e99-49ab-9c27-5d2591843463",
        "colab": {
          "base_uri": "https://localhost:8080/",
          "height": 350
        }
      },
      "source": [
        "   \n",
        "# creating the dataset\n",
        "sentiment_data[7].pop('product_id', None)\n",
        "\n",
        "data = sentiment_data[7]\n",
        "courses = list(data.keys()) \n",
        "values = list(data.values()) \n",
        "fig = plt.figure(figsize = (10, 5)) \n",
        "# creating the bar plot \n",
        "plt.bar(courses, values, color ='blue',  \n",
        "        width = 0.4) \n",
        "plt.xlabel(\"Sentiment score\") \n",
        "plt.ylabel(\"Entities\") \n",
        "plt.title(\"Product entities sentiment score\") \n",
        "plt.show() "
      ],
      "execution_count": null,
      "outputs": [
        {
          "output_type": "display_data",
          "data": {
            "image/png": "[encoded data removed]",
            "text/plain": [
              "<Figure size 720x360 with 1 Axes>"
            ]
          },
          "metadata": {
            "tags": [],
            "needs_background": "light"
          }
        }
      ]
    },
    {
      "cell_type": "code",
      "metadata": {
        "id": "ALY11rVM5al7",
        "outputId": "cddbd4e7-4189-4d12-d090-e86f3a8f96d8",
        "colab": {
          "base_uri": "https://localhost:8080/"
        }
      },
      "source": [
        "top_review_data[7]"
      ],
      "execution_count": null,
      "outputs": [
        {
          "output_type": "execute_result",
          "data": {
            "text/plain": [
              "{'apps': \"it's simple and works well for meellers say you have to purchase an additional app, but mine works fine with the included 'memo' app on my ipod touch 2gown side is that you have unplug it to listen to the recording.\",\n",
              " 'memo': \"it's simple and works well for meellers say you have to purchase an additional app, but mine works fine with the included 'memo' app on my ipod touch 2gown side is that you have unplug it to listen to the recording.\",\n",
              " 'product_id': '9862510447',\n",
              " 'size': 'nice add on for those who have an ipod touchnot a miracle worker but provides microphone capability.',\n",
              " 'speakers': \"this microphone does what it states, but nothing moret does record sound, and that can be very handy for an idevice, but at the cost of the external speakers (if it has one) being shut offhe original reason i bought this was for the use of skype, but i can't due to the speakers getting shut offlso, the size can be helpful (not a obstruction), but it is also easily losableos-records sounds-compact**cons-no speaker when in use-compactin the end, buy this if you need it for the voice memos, shazam, an certain voice apps, but with other applications, such as skype,this won't do very well.\",\n",
              " 'tool': 'i use this product all the time since i am on voxeri needed a microphone and this product is great because it is small and not as noticeablei really love it'}"
            ]
          },
          "metadata": {
            "tags": []
          },
          "execution_count": 95
        }
      ]
    },
    {
      "cell_type": "markdown",
      "metadata": {
        "id": "VFPHKgIEJG7X"
      },
      "source": [
        "## Product 9"
      ]
    },
    {
      "cell_type": "code",
      "metadata": {
        "id": "M5C6LFOE5u32",
        "outputId": "2270f20f-f96b-4169-a347-8851527cf0a3",
        "colab": {
          "base_uri": "https://localhost:8080/"
        }
      },
      "source": [
        "sentiment_data[8]"
      ],
      "execution_count": null,
      "outputs": [
        {
          "output_type": "execute_result",
          "data": {
            "text/plain": [
              "{'garmin': 0.0,\n",
              " 'product_id': '0528881469',\n",
              " 'route': -0.2787,\n",
              " 'software': 0.6369,\n",
              " 'thing': 0.0,\n",
              " 'units': 0.0}"
            ]
          },
          "metadata": {
            "tags": []
          },
          "execution_count": 96
        }
      ]
    },
    {
      "cell_type": "code",
      "metadata": {
        "id": "UQZxAi1E_pDK",
        "outputId": "8e69f982-bd95-490a-b3ae-3cd02bda02d9",
        "colab": {
          "base_uri": "https://localhost:8080/",
          "height": 350
        }
      },
      "source": [
        "   \n",
        "# creating the dataset\n",
        "sentiment_data[8].pop('product_id', None)\n",
        "\n",
        "data = sentiment_data[8]\n",
        "courses = list(data.keys()) \n",
        "values = list(data.values()) \n",
        "fig = plt.figure(figsize = (10, 5)) \n",
        "# creating the bar plot \n",
        "plt.bar(courses, values, color ='blue',  \n",
        "        width = 0.4) \n",
        "plt.xlabel(\"Sentiment score\") \n",
        "plt.ylabel(\"Entities\") \n",
        "plt.title(\"Product entities sentiment score\") \n",
        "plt.show() "
      ],
      "execution_count": null,
      "outputs": [
        {
          "output_type": "display_data",
          "data": {
            "image/png": "[encoded data removed]",
            "text/plain": [
              "<Figure size 720x360 with 1 Axes>"
            ]
          },
          "metadata": {
            "tags": [],
            "needs_background": "light"
          }
        }
      ]
    },
    {
      "cell_type": "code",
      "metadata": {
        "id": "lus5kSOk5cQX",
        "outputId": "d7007525-bdb2-4f3e-edab-1c6eb94c5a88",
        "colab": {
          "base_uri": "https://localhost:8080/"
        }
      },
      "source": [
        "top_review_data[8]"
      ],
      "execution_count": null,
      "outputs": [
        {
          "output_type": "execute_result",
          "data": {
            "text/plain": [
              "{'garmin': \"well, what can i sayi've had this unit in my truck for about four days nowprior to that i had a garmin 755t non-truck gpsone of my favorite features in that unit was the ability to plan a route by determining mileage using the stop or via featurewhat i would do is using a map i would route myself several different ways forcing the unit by putting in stops or vias at different locations along the route, otherwise, like most gps 's, it determines what it thinks is the best routei could add up to 10 via's or stop points for each route and then based on mileage and other factors determine which is the best route to takemultiple stops and the ability to route was the most important reason for having the garminhowever it was not truck specificand considering i am now hauling strictly hazmat i wanted something that would take that into considerationafter perusing various forums, review sites, and word-of-mouth my choices boiled down to the garmin 465t or the rand mcnally intelliroute tnd 700even though it was quite a bit more than the garmin i chose the tnd 700 for several reasonsthe main one being the extra screen size, and its ability to coordinate with the rand mcnally truck atlas and also its ease of updatingw on to my first impression of the tnd 700it seems to be an aesthetically pleasing and durably built unitthe first thing i noticed was it's very slow to boot compared to my old garminwhether this is unique to the tnd 700 or is common amongst all truck specific gps units i cannot tell, but it's really not that big of a dealthe second thing i noticed was the overwhelming wealth of information put forththat might explain why the manual (available via the tnd dock) is well over 100 pages long there is somewhat of a learning curve with this unitthe next thing i noticed was the complexity of entering routesas previously mentioned i like to force it into my preferred routing by the use of stops or viasthat was a big no go with this unitwhile you can enter multiple stops or vias it is nowhere near as user-friendly as my old garminfurthermore there is no way you can determine total mileage on the route that you have chosen, as i could with the garmintotally flummoxed by what appeared to be an omission of one of the best routing tools a trucker could have i went online and verified through an expert source connected with rand mcnally that no, that feature was a couple updates down the line and was not available at this pointunbelievablealso forcing the unit to follow a specific route can be very challengingfor a unit of this price, and feature laden, i find this totally unacceptablei am still mulling over selling this unit and buying the garmin 465ti really do like this gps, the screen is magnificent, and the volume is awesomeother thing i've noticed, which i do not think is unique to this unit, is some of the weird routing that it doesi've never owned a truck specific gps before but after playing with this one for a couple of days i get the impression that what rand macnally (and the others that use navteq) has done is take a plain old car specific navteq map and a road atlas with truck restrictions and made notifications on the mapin most databases there is not a 100% thorough listing of every road in the countrywhat i mean is that this unit will route you down roads you don't belong ontoday while coming home it tried routing me on several 9 ton county roadswhat that means is that a truck is limited to 73280 unless the road is posted at 10 tonscounty roads do not have that restriction listed in the rand mcnally road atlas, so i believe that is why it is not listed also unacceptable in a unit of this price and sold as truck specifichowever i'd be willing to bet the other truck specific units are the same way as no one has ever done a truck specific version of navteqother bone i have to pick is the poi'sot only the truck specific ones but the others all seem to be somewhat outdatedi think the garmin, at least the ones that i have used, are more currentit would also be nice if i could add my own poi'sto sum it up i will keep this unit a little longer to see if i can make it workableif not i will go back to garmini like the concept and i like the unit but at this point i'll have to say i am somewhat unimpressedos:large screenterrific imagesoutstanding volumecons:inability to determine route mileage by multiple stops and viasa somewhat outdated poi informationn-truck specific routingsst.\",\n",
              " 'product_id': '0528881469',\n",
              " 'route': \"i've had mine for a year and here's what we gott tries to route be down non truck routes while telling me the truck route is illegal for mehis is such a bad problem that even interstate 25 in denver colorado is listed (according to this gps) as a non- truck route and will route you through the city insteadhere are several drivers within our company who own one and more than half (of about 50) have crashed to an un-recoverable stateur company representative said that rand mcnally informed them that the gps was not designed to say on for a long period of timeeally? it's a truck driver gpse have one driver with a $2400 dollar ticket due to this gps routing him down the wrong roadhe companies response was to update the unit've had mine for a year, i never noticed one update that corrected functionality, they only seem to keep messing the tools want a gps that routes, if i wanted tools i'd buy software for my computer suggestion is to by a nice garmeny one rated for cars actually routes me better than this one rated for trucksyne\",\n",
              " 'software': \"well, what can i sayi've had this unit in my truck for about four days nowprior to that i had a garmin 755t non-truck gpsone of my favorite features in that unit was the ability to plan a route by determining mileage using the stop or via featurewhat i would do is using a map i would route myself several different ways forcing the unit by putting in stops or vias at different locations along the route, otherwise, like most gps 's, it determines what it thinks is the best routei could add up to 10 via's or stop points for each route and then based on mileage and other factors determine which is the best route to takemultiple stops and the ability to route was the most important reason for having the garminhowever it was not truck specificand considering i am now hauling strictly hazmat i wanted something that would take that into considerationafter perusing various forums, review sites, and word-of-mouth my choices boiled down to the garmin 465t or the rand mcnally intelliroute tnd 700even though it was quite a bit more than the garmin i chose the tnd 700 for several reasonsthe main one being the extra screen size, and its ability to coordinate with the rand mcnally truck atlas and also its ease of updatingw on to my first impression of the tnd 700it seems to be an aesthetically pleasing and durably built unitthe first thing i noticed was it's very slow to boot compared to my old garminwhether this is unique to the tnd 700 or is common amongst all truck specific gps units i cannot tell, but it's really not that big of a dealthe second thing i noticed was the overwhelming wealth of information put forththat might explain why the manual (available via the tnd dock) is well over 100 pages long there is somewhat of a learning curve with this unitthe next thing i noticed was the complexity of entering routesas previously mentioned i like to force it into my preferred routing by the use of stops or viasthat was a big no go with this unitwhile you can enter multiple stops or vias it is nowhere near as user-friendly as my old garminfurthermore there is no way you can determine total mileage on the route that you have chosen, as i could with the garmintotally flummoxed by what appeared to be an omission of one of the best routing tools a trucker could have i went online and verified through an expert source connected with rand mcnally that no, that feature was a couple updates down the line and was not available at this pointunbelievablealso forcing the unit to follow a specific route can be very challengingfor a unit of this price, and feature laden, i find this totally unacceptablei am still mulling over selling this unit and buying the garmin 465ti really do like this gps, the screen is magnificent, and the volume is awesomeother thing i've noticed, which i do not think is unique to this unit, is some of the weird routing that it doesi've never owned a truck specific gps before but after playing with this one for a couple of days i get the impression that what rand macnally (and the others that use navteq) has done is take a plain old car specific navteq map and a road atlas with truck restrictions and made notifications on the mapin most databases there is not a 100% thorough listing of every road in the countrywhat i mean is that this unit will route you down roads you don't belong ontoday while coming home it tried routing me on several 9 ton county roadswhat that means is that a truck is limited to 73280 unless the road is posted at 10 tonscounty roads do not have that restriction listed in the rand mcnally road atlas, so i believe that is why it is not listed also unacceptable in a unit of this price and sold as truck specifichowever i'd be willing to bet the other truck specific units are the same way as no one has ever done a truck specific version of navteqother bone i have to pick is the poi'sot only the truck specific ones but the others all seem to be somewhat outdatedi think the garmin, at least the ones that i have used, are more currentit would also be nice if i could add my own poi'sto sum it up i will keep this unit a little longer to see if i can make it workableif not i will go back to garmini like the concept and i like the unit but at this point i'll have to say i am somewhat unimpressedos:large screenterrific imagesoutstanding volumecons:inability to determine route mileage by multiple stops and viasa somewhat outdated poi informationn-truck specific routingsst.\",\n",
              " 'thing': \"i've had mine for a year and here's what we gott tries to route be down non truck routes while telling me the truck route is illegal for mehis is such a bad problem that even interstate 25 in denver colorado is listed (according to this gps) as a non- truck route and will route you through the city insteadhere are several drivers within our company who own one and more than half (of about 50) have crashed to an un-recoverable stateur company representative said that rand mcnally informed them that the gps was not designed to say on for a long period of timeeally? it's a truck driver gpse have one driver with a $2400 dollar ticket due to this gps routing him down the wrong roadhe companies response was to update the unit've had mine for a year, i never noticed one update that corrected functionality, they only seem to keep messing the tools want a gps that routes, if i wanted tools i'd buy software for my computer suggestion is to by a nice garmeny one rated for cars actually routes me better than this one rated for trucksyne\",\n",
              " 'units': \"i've had mine for a year and here's what we gott tries to route be down non truck routes while telling me the truck route is illegal for mehis is such a bad problem that even interstate 25 in denver colorado is listed (according to this gps) as a non- truck route and will route you through the city insteadhere are several drivers within our company who own one and more than half (of about 50) have crashed to an un-recoverable stateur company representative said that rand mcnally informed them that the gps was not designed to say on for a long period of timeeally? it's a truck driver gpse have one driver with a $2400 dollar ticket due to this gps routing him down the wrong roadhe companies response was to update the unit've had mine for a year, i never noticed one update that corrected functionality, they only seem to keep messing the tools want a gps that routes, if i wanted tools i'd buy software for my computer suggestion is to by a nice garmeny one rated for cars actually routes me better than this one rated for trucksyne\"}"
            ]
          },
          "metadata": {
            "tags": []
          },
          "execution_count": 98
        }
      ]
    },
    {
      "cell_type": "markdown",
      "metadata": {
        "id": "OdlqQQsfJMre"
      },
      "source": [
        "## Product 10\n"
      ]
    },
    {
      "cell_type": "code",
      "metadata": {
        "id": "SbfyMWy65wM1",
        "outputId": "446d4ac5-6e4b-438c-b92a-f1928d41feb4",
        "colab": {
          "base_uri": "https://localhost:8080/"
        }
      },
      "source": [
        "sentiment_data[9]"
      ],
      "execution_count": null,
      "outputs": [
        {
          "output_type": "execute_result",
          "data": {
            "text/plain": [
              "{'accessory': 0.37929999999999997,\n",
              " 'adaptor': 0.34,\n",
              " 'cable': 0.20095,\n",
              " 'plugin': 0.0,\n",
              " 'portit': 0.6249,\n",
              " 'product_id': '0594451647'}"
            ]
          },
          "metadata": {
            "tags": []
          },
          "execution_count": 99
        }
      ]
    },
    {
      "cell_type": "code",
      "metadata": {
        "id": "RCxCGJ8R_t4G",
        "outputId": "fd48fd92-8c6f-41bb-9eb9-fc48f270e1fb",
        "colab": {
          "base_uri": "https://localhost:8080/",
          "height": 350
        }
      },
      "source": [
        "   \n",
        "# creating the dataset\n",
        "sentiment_data[9].pop('product_id', None)\n",
        "\n",
        "data = sentiment_data[9]\n",
        "courses = list(data.keys()) \n",
        "values = list(data.values()) \n",
        "fig = plt.figure(figsize = (10, 5)) \n",
        "# creating the bar plot \n",
        "plt.bar(courses, values, color ='blue',  \n",
        "        width = 0.4) \n",
        "plt.xlabel(\"Sentiment score\") \n",
        "plt.ylabel(\"Entities\") \n",
        "plt.title(\"Product entities sentiment score\") \n",
        "plt.show() "
      ],
      "execution_count": null,
      "outputs": [
        {
          "output_type": "display_data",
          "data": {
            "image/png": "[encoded data removed]",
            "text/plain": [
              "<Figure size 720x360 with 1 Axes>"
            ]
          },
          "metadata": {
            "tags": [],
            "needs_background": "light"
          }
        }
      ]
    },
    {
      "cell_type": "code",
      "metadata": {
        "id": "YtNNQr5f5dRi",
        "outputId": "e02bf985-9496-4438-e7d2-ade1eb587036",
        "colab": {
          "base_uri": "https://localhost:8080/"
        }
      },
      "source": [
        "top_review_data[9]"
      ],
      "execution_count": null,
      "outputs": [
        {
          "output_type": "execute_result",
          "data": {
            "text/plain": [
              "{'accessory': 'this adapter easily connects my nook hd to my hdtv through the hdmi cablethis is good for traveling because it makes any hotel tv a potential smart tv so long as there is an accessible hdmi portit is also good for sharing photos from fb on a bigger screen bit pricey, but a good accessory to havebe sure to note that this is only for the nook hd and hd+ seriesit will not work with a standard nook.',\n",
              " 'adaptor': 'this adapter easily connects my nook hd to my hdtv through the hdmi cablethis is good for traveling because it makes any hotel tv a potential smart tv so long as there is an accessible hdmi portit is also good for sharing photos from fb on a bigger screen bit pricey, but a good accessory to havebe sure to note that this is only for the nook hd and hd+ seriesit will not work with a standard nook.',\n",
              " 'cable': 'this adapter easily connects my nook hd to my hdtv through the hdmi cablethis is good for traveling because it makes any hotel tv a potential smart tv so long as there is an accessible hdmi portit is also good for sharing photos from fb on a bigger screen bit pricey, but a good accessory to havebe sure to note that this is only for the nook hd and hd+ seriesit will not work with a standard nook.',\n",
              " 'plugin': 'this product really works great but i found the following items you need to keep in mind:- you must have your power adapter connected for it to workit plugs in the the bottomt appears it needs power from the nook power adapter to operatethe plug fits in loosely and you cannot move the nook around much without holding the adapter in placeon initial plugin it seems you need to rock it around to get the connection but then it seems solidit works with a 25ft high quality hdmi cable so you can put the nook across the room with youot tested with cheap cablesrningi found that my lg smarttv 3d from a few years back does not work with this adapter but it does not seem to work with many thingsbad softwarehis adapter works fine with other hdmi devices i have used like monitors and i am sure other tvsve it five stars because it really is nice to extend the screen and use your nook as a streaming server to your tvice they made such a device.',\n",
              " 'portit': 'this product really works great but i found the following items you need to keep in mind:- you must have your power adapter connected for it to workit plugs in the the bottomt appears it needs power from the nook power adapter to operatethe plug fits in loosely and you cannot move the nook around much without holding the adapter in placeon initial plugin it seems you need to rock it around to get the connection but then it seems solidit works with a 25ft high quality hdmi cable so you can put the nook across the room with youot tested with cheap cablesrningi found that my lg smarttv 3d from a few years back does not work with this adapter but it does not seem to work with many thingsbad softwarehis adapter works fine with other hdmi devices i have used like monitors and i am sure other tvsve it five stars because it really is nice to extend the screen and use your nook as a streaming server to your tvice they made such a device.',\n",
              " 'product_id': '0594451647'}"
            ]
          },
          "metadata": {
            "tags": []
          },
          "execution_count": 101
        }
      ]
    },
    {
      "cell_type": "markdown",
      "metadata": {
        "id": "v-xMq39kJSSn"
      },
      "source": [
        "## Product 11"
      ]
    },
    {
      "cell_type": "code",
      "metadata": {
        "id": "zRDHxX5D5y07",
        "outputId": "953ce0e6-b583-460d-8e27-7054613240e9",
        "colab": {
          "base_uri": "https://localhost:8080/"
        }
      },
      "source": [
        "sentiment_data[10]"
      ],
      "execution_count": null,
      "outputs": [
        {
          "output_type": "execute_result",
          "data": {
            "text/plain": [
              "{'cards': -0.4404,\n",
              " 'files': 0.0,\n",
              " 'like': -0.4215,\n",
              " 'product_id': '9876050621',\n",
              " 'waste': -0.5423,\n",
              " 'works': 0.2732}"
            ]
          },
          "metadata": {
            "tags": []
          },
          "execution_count": 102
        }
      ]
    },
    {
      "cell_type": "code",
      "metadata": {
        "id": "PDMYEV16_ypC",
        "outputId": "3ce8839f-5bef-46a1-ebd1-4e28d1db35c9",
        "colab": {
          "base_uri": "https://localhost:8080/",
          "height": 350
        }
      },
      "source": [
        "   \n",
        "# creating the dataset\n",
        "sentiment_data[10].pop('product_id', None)\n",
        "\n",
        "data = sentiment_data[10]\n",
        "courses = list(data.keys()) \n",
        "values = list(data.values()) \n",
        "fig = plt.figure(figsize = (10, 5)) \n",
        "# creating the bar plot \n",
        "plt.bar(courses, values, color ='blue',  \n",
        "        width = 0.4) \n",
        "plt.xlabel(\"Sentiment score\") \n",
        "plt.ylabel(\"Entities\") \n",
        "plt.title(\"Product entities sentiment score\") \n",
        "plt.show() "
      ],
      "execution_count": null,
      "outputs": [
        {
          "output_type": "display_data",
          "data": {
            "image/png": "[encoded data removed]",
            "text/plain": [
              "<Figure size 720x360 with 1 Axes>"
            ]
          },
          "metadata": {
            "tags": [],
            "needs_background": "light"
          }
        }
      ]
    },
    {
      "cell_type": "code",
      "metadata": {
        "id": "Q6gc_lPi5e5E",
        "outputId": "bc7711cd-ff21-4b72-ca8d-7a827d97aeef",
        "colab": {
          "base_uri": "https://localhost:8080/"
        }
      },
      "source": [
        "top_review_data[10]"
      ],
      "execution_count": null,
      "outputs": [
        {
          "output_type": "execute_result",
          "data": {
            "text/plain": [
              "{'cards': 'i had a couple of problems with having to reset my device so it could read the sd card beforei like to save any applications i can to it to save room on my deviceworked great for a couple of months after thatthen since yesterday, it just stopped reading and started saying damaged card and try to formati formatted it, and it still wont read the sd cardthis was a horrible waste of my moneyi am very upset.',\n",
              " 'files': \"sd ultra micro sdxc card has worked without flaw so farit's been trouble-free up to this point in transfering and managing all my audio files (~29gb) from my hp laptop to my samsung note 102014 editioni've also purchased compatible sd micro cards for my samsung galaxy iii cell phones which have worked out better than the kingston cards that i had originally purchased.\",\n",
              " 'like': 'i had a couple of problems with having to reset my device so it could read the sd card beforei like to save any applications i can to it to save room on my deviceworked great for a couple of months after thatthen since yesterday, it just stopped reading and started saying damaged card and try to formati formatted it, and it still wont read the sd cardthis was a horrible waste of my moneyi am very upset.',\n",
              " 'product_id': '9876050621',\n",
              " 'waste': 'i had a couple of problems with having to reset my device so it could read the sd card beforei like to save any applications i can to it to save room on my deviceworked great for a couple of months after thatthen since yesterday, it just stopped reading and started saying damaged card and try to formati formatted it, and it still wont read the sd cardthis was a horrible waste of my moneyi am very upset.',\n",
              " 'works': 'works as describedave not had an issue with my samsung galaxy note 102014here was a surprise when it arrived though: there was an sd adapter card with itid not read that in the description when i ordered the card.'}"
            ]
          },
          "metadata": {
            "tags": []
          },
          "execution_count": 104
        }
      ]
    }
  ]
}